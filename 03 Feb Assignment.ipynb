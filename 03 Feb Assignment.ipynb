{
 "cells": [
  {
   "cell_type": "markdown",
   "id": "2b2e4918-6a8e-4d7f-9b95-7fa3244c2777",
   "metadata": {},
   "source": [
    "Q1. Which keyword is used to create a function? Create a function to return a list of odd numbers in the  range of 1 to 25. "
   ]
  },
  {
   "cell_type": "code",
   "execution_count": 1,
   "id": "9eb17aae-e658-4fd3-a862-1355fd94b9c0",
   "metadata": {},
   "outputs": [],
   "source": [
    "# def keyword is used to create a function\n",
    "def oddNumber():\n",
    "    l = []\n",
    "    for i in range(1,25):\n",
    "        if i % 2 != 0:\n",
    "            l.append(i)\n",
    "    return l"
   ]
  },
  {
   "cell_type": "code",
   "execution_count": 2,
   "id": "947a783e-56b7-4c4d-8916-cc3b45a59735",
   "metadata": {},
   "outputs": [
    {
     "data": {
      "text/plain": [
       "[1, 3, 5, 7, 9, 11, 13, 15, 17, 19, 21, 23]"
      ]
     },
     "execution_count": 2,
     "metadata": {},
     "output_type": "execute_result"
    }
   ],
   "source": [
    "oddNumber()"
   ]
  },
  {
   "cell_type": "markdown",
   "id": "af9c1724-a306-446c-aba5-2c8b4932b1cd",
   "metadata": {},
   "source": [
    "Q2. Why *args and **kwargs is used in some functions? Create a function each for *args and **kwargs  to demonstrate their use. "
   ]
  },
  {
   "cell_type": "markdown",
   "id": "8d0c70a7-66b3-45b5-ad0c-6a0904d8d82d",
   "metadata": {},
   "source": [
    "Ans-> *args allows us to pass a vairable number of non-keyword arguments to a python function. we should use an asterisk (*)before the parameter name to pass a variable number of arguments.\n",
    "**kwargs allows us to pass a variable number of keyword arguments to a python function. we should use double asterisk(**) before the parameter name to denote this type of arguments."
   ]
  },
  {
   "cell_type": "code",
   "execution_count": 11,
   "id": "0b903074-87b6-4944-b3da-ab013c46ae2c",
   "metadata": {},
   "outputs": [],
   "source": [
    "def add(*args):\n",
    "    total = 0\n",
    "    for i in args:\n",
    "        total += i\n",
    "    return total"
   ]
  },
  {
   "cell_type": "code",
   "execution_count": 12,
   "id": "7e85f654-6cd1-4674-91c7-e312bd78ad18",
   "metadata": {},
   "outputs": [
    {
     "data": {
      "text/plain": [
       "15"
      ]
     },
     "execution_count": 12,
     "metadata": {},
     "output_type": "execute_result"
    }
   ],
   "source": [
    "add(1,2,3,4,5)"
   ]
  },
  {
   "cell_type": "code",
   "execution_count": 13,
   "id": "e642bc88-90b4-4d7f-95d4-169a8b85a58e",
   "metadata": {},
   "outputs": [],
   "source": [
    "def fruits(**kwargs):\n",
    "    print(kwargs)"
   ]
  },
  {
   "cell_type": "code",
   "execution_count": 14,
   "id": "23e9a420-45b3-4c61-98d6-a01c46077f63",
   "metadata": {},
   "outputs": [
    {
     "name": "stdout",
     "output_type": "stream",
     "text": [
      "{'Banana': 12, 'Orange': 7, 'Apple': 5}\n"
     ]
    }
   ],
   "source": [
    "fruits(Banana = 12, Orange=7,Apple = 5)"
   ]
  },
  {
   "cell_type": "markdown",
   "id": "cee871fa-049f-4eef-89fc-862ba7d9f81b",
   "metadata": {},
   "source": [
    "Q3.  What is an iterator in python? Name the method used to initialise the iterator object and the method  used for iteration. Use these methods to print the first five elements of the given list [2, 4, 6, 8, 10, 12, 14,  16, 18, 20]. "
   ]
  },
  {
   "cell_type": "markdown",
   "id": "19e73473-c463-4aaa-bb87-464d44f261ca",
   "metadata": {},
   "source": [
    "Ans-> An iterator is an object that contains a countable number of values. An iterator is an object that can be iterated upon, that you can travese all the values. python iterator object must implements two special methods, __iter__() and __next()__ "
   ]
  },
  {
   "cell_type": "code",
   "execution_count": 19,
   "id": "13ef494a-d5e0-4d31-9d5d-9d4c75bf74e0",
   "metadata": {},
   "outputs": [
    {
     "name": "stdout",
     "output_type": "stream",
     "text": [
      "2\n",
      "4\n",
      "6\n",
      "8\n",
      "10\n"
     ]
    }
   ],
   "source": [
    "l = [2, 4, 6, 8, 10, 12, 14, 16, 18, 20]\n",
    "count = 0\n",
    "for x in l:\n",
    "    if count < 5:\n",
    "        print(x)\n",
    "        count += 1"
   ]
  },
  {
   "cell_type": "markdown",
   "id": "2dbb4db2-a617-4858-b7ff-4548927218bd",
   "metadata": {},
   "source": [
    "Q4.  What is a generator function in python? Why yield keyword is used? Give an example of a generator  function."
   ]
  },
  {
   "cell_type": "markdown",
   "id": "69fb5dda-66a1-49a2-9f9a-63a15706921c",
   "metadata": {},
   "source": [
    "Ans-> A generator is a function that returns an iterator that produces a sequence of values when iterated over. Generators are useful that produces a large number of values, but we don't want to store all of them in memory. \n",
    "yield keyword is used to create a generator function. A type of function that is memory efficient and can be used like an iterator object. here is the example of generator function"
   ]
  },
  {
   "cell_type": "code",
   "execution_count": 2,
   "id": "9b4fca6d-3b84-4d98-b489-68b77bc98f75",
   "metadata": {},
   "outputs": [],
   "source": [
    "def count_num(n):\n",
    "    count = 1\n",
    "    while count <= n:\n",
    "        yield count\n",
    "        count += 1"
   ]
  },
  {
   "cell_type": "code",
   "execution_count": 3,
   "id": "91e212ed-fa2f-40ec-a0ef-8506e50fe6c4",
   "metadata": {},
   "outputs": [],
   "source": [
    "c= count_num(5)"
   ]
  },
  {
   "cell_type": "code",
   "execution_count": 4,
   "id": "b5f566ab-8e0f-4d4a-ad1f-7bfe08548b09",
   "metadata": {},
   "outputs": [
    {
     "name": "stdout",
     "output_type": "stream",
     "text": [
      "1\n",
      "2\n",
      "3\n",
      "4\n",
      "5\n"
     ]
    }
   ],
   "source": [
    "for i in c:\n",
    "    print(i)"
   ]
  },
  {
   "cell_type": "markdown",
   "id": "acb22308-74e9-4471-8a77-5a2477f70388",
   "metadata": {},
   "source": [
    "Q5. Create a generator function for prime numbers less than 1000. Use the next() method to print the  first 20 prime numbers. "
   ]
  },
  {
   "cell_type": "code",
   "execution_count": 1,
   "id": "1ccca3ac-807c-45cd-b5e6-d243dc81b8f5",
   "metadata": {},
   "outputs": [],
   "source": [
    "def primeNumber():\n",
    "    yield 2\n",
    "    prime_n = [2]\n",
    "    for i in range(3, 1000):\n",
    "        is_prime = True\n",
    "        for prime in prime_n:\n",
    "            if i % prime == 0:\n",
    "                is_prime = False\n",
    "                break\n",
    "        if is_prime:\n",
    "            prime_n.append(i)\n",
    "            yield i"
   ]
  },
  {
   "cell_type": "code",
   "execution_count": 3,
   "id": "69ba672b-4003-40f4-becd-4119123804b0",
   "metadata": {},
   "outputs": [
    {
     "name": "stdout",
     "output_type": "stream",
     "text": [
      "2 3 5 7 11 13 17 19 23 29 31 37 41 43 47 53 59 61 67 71 "
     ]
    }
   ],
   "source": [
    "printPrime = primeNumber()\n",
    "for i in range(20):\n",
    "    print(next(printPrime), end=' ')"
   ]
  },
  {
   "cell_type": "markdown",
   "id": "338e9895-b332-4c00-a9cb-33c99b6a67f3",
   "metadata": {},
   "source": [
    "Q6. Write a python program to print the first 10 Fibonacci numbers using a while loop. "
   ]
  },
  {
   "cell_type": "code",
   "execution_count": 1,
   "id": "28478657-2fde-4038-a83c-073531edd945",
   "metadata": {},
   "outputs": [],
   "source": [
    "def fib(n):\n",
    "    a ,b = 0,1\n",
    "    i = 1\n",
    "    while i <= n:\n",
    "        print(a, end=' ')\n",
    "        c = a+b\n",
    "        a = b\n",
    "        b = c\n",
    "        i += 1"
   ]
  },
  {
   "cell_type": "code",
   "execution_count": 2,
   "id": "d7f49949-3472-446c-91c5-f6c163a339cb",
   "metadata": {},
   "outputs": [
    {
     "name": "stdout",
     "output_type": "stream",
     "text": [
      "0 1 1 2 3 5 8 13 21 34 "
     ]
    }
   ],
   "source": [
    "fib(10)"
   ]
  },
  {
   "cell_type": "markdown",
   "id": "e4b5e7bb-8ef8-415c-ae41-570dfb050c9d",
   "metadata": {},
   "source": [
    "Q7. Write a List Comprehension to iterate through the given string: ‘pwskills’. \n",
    "Expected output: ['p', 'w', 's', 'k', 'i', 'l', 'l', 's']  "
   ]
  },
  {
   "cell_type": "code",
   "execution_count": 5,
   "id": "d889b511-7af5-4de1-bc64-ea43a6c5e244",
   "metadata": {},
   "outputs": [
    {
     "name": "stdout",
     "output_type": "stream",
     "text": [
      "['p', 'w', 's', 'k', 'i', 'l', 'l', 's']\n"
     ]
    }
   ],
   "source": [
    "string = 'pwskills'\n",
    "list1 = [char for char in string]\n",
    "print(list1)"
   ]
  },
  {
   "cell_type": "markdown",
   "id": "8915d5a7-9d34-407e-a15d-a8397f6c37e1",
   "metadata": {},
   "source": [
    "Q8. Write a python program to check whether a given number is Palindrome or not using a while loop. "
   ]
  },
  {
   "cell_type": "code",
   "execution_count": 12,
   "id": "55134408-a061-408f-bb9a-6d9650701056",
   "metadata": {},
   "outputs": [
    {
     "name": "stdin",
     "output_type": "stream",
     "text": [
      "Enter a number =  123321\n"
     ]
    },
    {
     "name": "stdout",
     "output_type": "stream",
     "text": [
      "the number is palindrome\n"
     ]
    }
   ],
   "source": [
    "number = int(input('Enter a number = '))\n",
    "temp = number\n",
    "rev = 0\n",
    "while 0 < number:\n",
    "    dig = number%10\n",
    "    rev = rev*10+dig\n",
    "    number = number//10\n",
    "if temp == rev:\n",
    "    print('the number is palindrome')\n",
    "else :\n",
    "    print('the number is not palindrome')\n",
    "    "
   ]
  },
  {
   "cell_type": "markdown",
   "id": "2e34e538-038b-4894-8a94-a75f9b4c36da",
   "metadata": {},
   "source": [
    "Q9. Write a code to print odd numbers from 1 to 100 using list comprehension. \n",
    "Note: Use a list comprehension to create a list from 1 to 100 and use another List comprehension to filter  out odd numbers. "
   ]
  },
  {
   "cell_type": "code",
   "execution_count": 12,
   "id": "ab374664-f434-4b0f-93d7-3e0958cb7ad9",
   "metadata": {},
   "outputs": [
    {
     "name": "stdout",
     "output_type": "stream",
     "text": [
      "[1, 2, 3, 4, 5, 6, 7, 8, 9, 10, 11, 12, 13, 14, 15, 16, 17, 18, 19, 20, 21, 22, 23, 24, 25, 26, 27, 28, 29, 30, 31, 32, 33, 34, 35, 36, 37, 38, 39, 40, 41, 42, 43, 44, 45, 46, 47, 48, 49, 50, 51, 52, 53, 54, 55, 56, 57, 58, 59, 60, 61, 62, 63, 64, 65, 66, 67, 68, 69, 70, 71, 72, 73, 74, 75, 76, 77, 78, 79, 80, 81, 82, 83, 84, 85, 86, 87, 88, 89, 90, 91, 92, 93, 94, 95, 96, 97, 98, 99, 100]\n",
      "[1, 3, 5, 7, 9, 11, 13, 15, 17, 19, 21, 23, 25, 27, 29, 31, 33, 35, 37, 39, 41, 43, 45, 47, 49, 51, 53, 55, 57, 59, 61, 63, 65, 67, 69, 71, 73, 75, 77, 79, 81, 83, 85, 87, 89, 91, 93, 95, 97, 99]\n"
     ]
    }
   ],
   "source": [
    "# A list comprehension to create a list from 1 to 100\n",
    "list1 = [i for i in range(1,101)]\n",
    "print(list1)\n",
    "# another list comprehension of filtering odd numbers\n",
    "list2 = [list1 for list1 in range(100) if list1 % 2 != 0]\n",
    "print(list2)"
   ]
  },
  {
   "cell_type": "code",
   "execution_count": null,
   "id": "c29f7ed8-88a1-4473-9b1a-18894d4f61d4",
   "metadata": {},
   "outputs": [],
   "source": []
  }
 ],
 "metadata": {
  "kernelspec": {
   "display_name": "Python 3 (ipykernel)",
   "language": "python",
   "name": "python3"
  },
  "language_info": {
   "codemirror_mode": {
    "name": "ipython",
    "version": 3
   },
   "file_extension": ".py",
   "mimetype": "text/x-python",
   "name": "python",
   "nbconvert_exporter": "python",
   "pygments_lexer": "ipython3",
   "version": "3.10.8"
  }
 },
 "nbformat": 4,
 "nbformat_minor": 5
}
